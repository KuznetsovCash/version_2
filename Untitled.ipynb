{
 "cells": [
  {
   "cell_type": "code",
   "execution_count": 1,
   "id": "0ca16e4a",
   "metadata": {},
   "outputs": [],
   "source": [
    "\n",
    "from tensorflow.keras.models import load_model\n"
   ]
  },
  {
   "cell_type": "code",
   "execution_count": 2,
   "id": "1fd1d2d2",
   "metadata": {},
   "outputs": [],
   "source": [
    "model_predict = load_model('btc_model_1.h5')"
   ]
  },
  {
   "cell_type": "code",
   "execution_count": 3,
   "id": "06282da1",
   "metadata": {},
   "outputs": [],
   "source": [
    "segment_file = ''' \n",
    "\n",
    "import pandas as pd\n",
    "import numpy as np\n",
    "import tensorflow\n",
    "from tensorflow.keras.models import load_model\n",
    "from sklearn.preprocessing import StandardScaler\n",
    "from tensorflow.keras.preprocessing.sequence import TimeseriesGenerator\n",
    "\n",
    "from tensorflow.keras.models import load_model\n",
    "model = load_model('btc_model_1.h5')\n",
    "\n",
    "\n",
    "def process(test):\n",
    "    \n",
    "    data1 = test\n",
    "    data2 = data1[:5]\n",
    "    \n",
    "    data_y_scaler = data2.drop(columns=['<OPEN>', '<HIGH>', '<LOW>', '<VOL>'])\n",
    "    x_data = data2.to_numpy()\n",
    "    \n",
    "    x_scaler = StandardScaler()\n",
    "    x_scaler.fit(x_data)\n",
    "    x_data_train = x_scaler.transform(x_data)\n",
    "    \n",
    "    y_scaler = StandardScaler()\n",
    "    y_scaler.fit(data_y_scaler)\n",
    "    y_data_train = y_scaler.transform(data_y_scaler)\n",
    "    \n",
    "    generator = TimeseriesGenerator(x_data_train, x_data_train, length=4, batch_size=1)\n",
    "\n",
    "    \n",
    "    x_predict, y_test = generator[0]\n",
    "    model_predict = y_scaler.inverse_transform(model.predict(x_predict))\n",
    "\n",
    "    return print(model_predict)\n",
    "\n",
    "\n",
    "'''\n",
    "\n",
    "with open('segment.py', 'w') as file:\n",
    "    file.write(segment_file)"
   ]
  },
  {
   "cell_type": "code",
   "execution_count": 4,
   "id": "86d52266",
   "metadata": {},
   "outputs": [
    {
     "name": "stdout",
     "output_type": "stream",
     "text": [
      "1/1 [==============================] - 0s 183ms/step\n",
      "[[15073.242]]\n"
     ]
    }
   ],
   "source": [
    "import segment\n",
    "import pandas as pd\n",
    "\n",
    "\n",
    "# Путь к файлу   \n",
    "test = pd.read_csv('btc1.csv', sep=';').drop(columns=['<DATE>', '<TIME>'])\n",
    "segment.process(test)\n"
   ]
  },
  {
   "cell_type": "code",
   "execution_count": 1,
   "id": "21920757",
   "metadata": {},
   "outputs": [],
   "source": [
    "app_file = '''\n",
    "\n",
    "import streamlit as st\n",
    "from segment import process\n",
    "\n",
    "st.title('BTC')\n",
    "\n",
    "file = st.file_uploader('Load', type=['csv'])\n",
    "\n",
    "if not file in None:\n",
    "       result = process(file)\n",
    "\n",
    "'''\n",
    "\n",
    "with open('app.py', 'w') as file:\n",
    "       file.write(app_file)"
   ]
  },
  {
   "cell_type": "code",
   "execution_count": 2,
   "id": "b4c9f5bf",
   "metadata": {},
   "outputs": [],
   "source": [
    "setup_file = '''\n",
    "\n",
    "mkdir -p ~/.streamlit/\n",
    "echo \"\\\n",
    "[server]\\n\\\n",
    "headless = true\\n\\\n",
    "port = $port\\n\\\n",
    "enableCORS = false\\n\\\n",
    "\\n\\\n",
    "\" > ~/.streamlit/config.toml\n",
    "\n",
    "'''\n",
    "with open('setup.sh', 'w') as file:\n",
    "       file.write(setup_file)"
   ]
  },
  {
   "cell_type": "code",
   "execution_count": 3,
   "id": "d819a347",
   "metadata": {},
   "outputs": [],
   "source": [
    "proc_file = 'web: sh setup.sh && streamlit run app.py'\n",
    "\n",
    "with open('Procfile', 'w') as file:\n",
    "    file.write(proc_file)"
   ]
  },
  {
   "cell_type": "code",
   "execution_count": 4,
   "id": "678fbdb7",
   "metadata": {},
   "outputs": [],
   "source": [
    "requirements_file = '''\n",
    "streamlit\n",
    "tensorflow-cpu==2.8.0\n",
    "sklearn\n",
    "'''\n",
    "\n",
    "with open('requirements.txt', 'w') as file:\n",
    "    file.write(requirements_file)"
   ]
  }
 ],
 "metadata": {
  "kernelspec": {
   "display_name": "base",
   "language": "python",
   "name": "python3"
  },
  "language_info": {
   "codemirror_mode": {
    "name": "ipython",
    "version": 3
   },
   "file_extension": ".py",
   "mimetype": "text/x-python",
   "name": "python",
   "nbconvert_exporter": "python",
   "pygments_lexer": "ipython3",
   "version": "3.9.12"
  },
  "vscode": {
   "interpreter": {
    "hash": "e48a2ddde62ae6a177e47361524ea86aff6fd68a83a4f72686faa609aef9fce0"
   }
  }
 },
 "nbformat": 4,
 "nbformat_minor": 5
}
